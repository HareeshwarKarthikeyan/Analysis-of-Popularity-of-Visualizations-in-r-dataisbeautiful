{
 "cells": [
  {
   "cell_type": "code",
   "execution_count": 27,
   "id": "8d00f40f",
   "metadata": {},
   "outputs": [],
   "source": [
    "import colorgram\n",
    "import pandas as pd"
   ]
  },
  {
   "cell_type": "code",
   "execution_count": 28,
   "id": "a027e7bd",
   "metadata": {},
   "outputs": [],
   "source": [
    "colors = colorgram.extract('exampleimages/1.jpeg',4)"
   ]
  },
  {
   "cell_type": "markdown",
   "id": "3f88c4c8",
   "metadata": {},
   "source": [
    "### Extraction when the images are in a local directory"
   ]
  },
  {
   "cell_type": "code",
   "execution_count": 29,
   "id": "71c2f663",
   "metadata": {},
   "outputs": [
    {
     "name": "stdout",
     "output_type": "stream",
     "text": [
      "b'1.jpeg'\n",
      "b'2.jpeg'\n",
      "b'3.jpeg'\n"
     ]
    },
    {
     "data": {
      "text/html": [
       "<div>\n",
       "<style scoped>\n",
       "    .dataframe tbody tr th:only-of-type {\n",
       "        vertical-align: middle;\n",
       "    }\n",
       "\n",
       "    .dataframe tbody tr th {\n",
       "        vertical-align: top;\n",
       "    }\n",
       "\n",
       "    .dataframe thead th {\n",
       "        text-align: right;\n",
       "    }\n",
       "</style>\n",
       "<table border=\"1\" class=\"dataframe\">\n",
       "  <thead>\n",
       "    <tr style=\"text-align: right;\">\n",
       "      <th></th>\n",
       "      <th>image_name</th>\n",
       "      <th>color1_rgb</th>\n",
       "      <th>color1_propotion</th>\n",
       "      <th>color2_rgb</th>\n",
       "      <th>color2_propotion</th>\n",
       "      <th>color3_rgb</th>\n",
       "      <th>color3_propotion</th>\n",
       "      <th>color4_rgb</th>\n",
       "      <th>color4_propotion</th>\n",
       "    </tr>\n",
       "  </thead>\n",
       "  <tbody>\n",
       "    <tr>\n",
       "      <th>0</th>\n",
       "      <td>exampleimages/1.jpeg</td>\n",
       "      <td>(1, 176, 240)</td>\n",
       "      <td>0.447674</td>\n",
       "      <td>(5, 4, 4)</td>\n",
       "      <td>0.327223</td>\n",
       "      <td>(243, 243, 239)</td>\n",
       "      <td>0.116160</td>\n",
       "      <td>(169, 209, 143)</td>\n",
       "      <td>0.108943</td>\n",
       "    </tr>\n",
       "    <tr>\n",
       "      <th>1</th>\n",
       "      <td>exampleimages/1.jpeg</td>\n",
       "      <td>(1, 176, 240)</td>\n",
       "      <td>0.447674</td>\n",
       "      <td>(5, 4, 4)</td>\n",
       "      <td>0.327223</td>\n",
       "      <td>(243, 243, 239)</td>\n",
       "      <td>0.116160</td>\n",
       "      <td>(169, 209, 143)</td>\n",
       "      <td>0.108943</td>\n",
       "    </tr>\n",
       "    <tr>\n",
       "      <th>2</th>\n",
       "      <td>exampleimages/1.jpeg</td>\n",
       "      <td>(1, 176, 240)</td>\n",
       "      <td>0.447674</td>\n",
       "      <td>(5, 4, 4)</td>\n",
       "      <td>0.327223</td>\n",
       "      <td>(243, 243, 239)</td>\n",
       "      <td>0.116160</td>\n",
       "      <td>(169, 209, 143)</td>\n",
       "      <td>0.108943</td>\n",
       "    </tr>\n",
       "    <tr>\n",
       "      <th>3</th>\n",
       "      <td>exampleimages/2.jpeg</td>\n",
       "      <td>(254, 254, 253)</td>\n",
       "      <td>0.624673</td>\n",
       "      <td>(244, 229, 54)</td>\n",
       "      <td>0.314415</td>\n",
       "      <td>(8, 8, 6)</td>\n",
       "      <td>0.035509</td>\n",
       "      <td>(231, 232, 234)</td>\n",
       "      <td>0.025403</td>\n",
       "    </tr>\n",
       "    <tr>\n",
       "      <th>4</th>\n",
       "      <td>exampleimages/3.jpeg</td>\n",
       "      <td>(254, 250, 246)</td>\n",
       "      <td>0.808855</td>\n",
       "      <td>(237, 225, 124)</td>\n",
       "      <td>0.102815</td>\n",
       "      <td>(216, 243, 234)</td>\n",
       "      <td>0.045000</td>\n",
       "      <td>(218, 153, 227)</td>\n",
       "      <td>0.043331</td>\n",
       "    </tr>\n",
       "  </tbody>\n",
       "</table>\n",
       "</div>"
      ],
      "text/plain": [
       "             image_name       color1_rgb  color1_propotion       color2_rgb  \\\n",
       "0  exampleimages/1.jpeg    (1, 176, 240)          0.447674        (5, 4, 4)   \n",
       "1  exampleimages/1.jpeg    (1, 176, 240)          0.447674        (5, 4, 4)   \n",
       "2  exampleimages/1.jpeg    (1, 176, 240)          0.447674        (5, 4, 4)   \n",
       "3  exampleimages/2.jpeg  (254, 254, 253)          0.624673   (244, 229, 54)   \n",
       "4  exampleimages/3.jpeg  (254, 250, 246)          0.808855  (237, 225, 124)   \n",
       "\n",
       "   color2_propotion       color3_rgb  color3_propotion       color4_rgb  \\\n",
       "0          0.327223  (243, 243, 239)          0.116160  (169, 209, 143)   \n",
       "1          0.327223  (243, 243, 239)          0.116160  (169, 209, 143)   \n",
       "2          0.327223  (243, 243, 239)          0.116160  (169, 209, 143)   \n",
       "3          0.314415        (8, 8, 6)          0.035509  (231, 232, 234)   \n",
       "4          0.102815  (216, 243, 234)          0.045000  (218, 153, 227)   \n",
       "\n",
       "   color4_propotion  \n",
       "0          0.108943  \n",
       "1          0.108943  \n",
       "2          0.108943  \n",
       "3          0.025403  \n",
       "4          0.043331  "
      ]
     },
     "execution_count": 29,
     "metadata": {},
     "output_type": "execute_result"
    }
   ],
   "source": [
    "import os\n",
    "color_data=pd.DataFrame(columns=['image_name',\"color1_rgb\",\"color1_propotion\",\"color2_rgb\",\"color2_propotion\",\"color3_rgb\",\"color3_propotion\",\"color4_rgb\",\"color4_propotion\"])\n",
    "directory_in_str=\"exampleimages\"\n",
    "directory = os.fsencode(directory_in_str)\n",
    "for file in os.listdir(directory):\n",
    "    filename = os.fsdecode(file)\n",
    "    if filename.endswith(\".jpeg\") or filename.endswith(\".jpg\"):\n",
    "        print(file)\n",
    "        file = \"exampleimages\"+\"/\"+filename\n",
    "        colors = colorgram.extract(file,4)\n",
    "        colors_in_image=pd.Series([file,colors[0].rgb,colors[0].proportion,colors[1].rgb,colors[1].proportion,colors[2].rgb,colors[2].proportion,colors[3].rgb,colors[3].proportion],\\\n",
    "                             index=['image_name', 'color1_rgb', 'color1_propotion', 'color2_rgb',\n",
    "       'color2_propotion', 'color3_rgb', 'color3_propotion', 'color4_rgb','color4_propotion'])\n",
    "    color_data = color_data.append(colors_in_image, ignore_index=True)\n",
    "    continue\n",
    "color_data"
   ]
  },
  {
   "cell_type": "code",
   "execution_count": 34,
   "id": "435a57d2",
   "metadata": {},
   "outputs": [
    {
     "name": "stdout",
     "output_type": "stream",
     "text": [
      "image_name          exampleimages/1.jpeg\n",
      "color1_rgb                 (1, 176, 240)\n",
      "color1_propotion                0.447674\n",
      "color2_rgb                     (5, 4, 4)\n",
      "color2_propotion                0.327223\n",
      "color3_rgb               (243, 243, 239)\n",
      "color3_propotion                 0.11616\n",
      "color4_rgb               (169, 209, 143)\n",
      "color4_propotion                0.108943\n",
      "dtype: object\n"
     ]
    },
    {
     "data": {
      "text/html": [
       "<div>\n",
       "<style scoped>\n",
       "    .dataframe tbody tr th:only-of-type {\n",
       "        vertical-align: middle;\n",
       "    }\n",
       "\n",
       "    .dataframe tbody tr th {\n",
       "        vertical-align: top;\n",
       "    }\n",
       "\n",
       "    .dataframe thead th {\n",
       "        text-align: right;\n",
       "    }\n",
       "</style>\n",
       "<table border=\"1\" class=\"dataframe\">\n",
       "  <thead>\n",
       "    <tr style=\"text-align: right;\">\n",
       "      <th></th>\n",
       "      <th>image_name</th>\n",
       "      <th>color1_rgb</th>\n",
       "      <th>color1_propotion</th>\n",
       "      <th>color2_rgb</th>\n",
       "      <th>color2_propotion</th>\n",
       "      <th>color3_rgb</th>\n",
       "      <th>color3_propotion</th>\n",
       "      <th>color4_rgb</th>\n",
       "      <th>color4_propotion</th>\n",
       "    </tr>\n",
       "  </thead>\n",
       "  <tbody>\n",
       "    <tr>\n",
       "      <th>0</th>\n",
       "      <td>exampleimages/1.jpeg</td>\n",
       "      <td>(1, 176, 240)</td>\n",
       "      <td>0.447674</td>\n",
       "      <td>(5, 4, 4)</td>\n",
       "      <td>0.327223</td>\n",
       "      <td>(243, 243, 239)</td>\n",
       "      <td>0.11616</td>\n",
       "      <td>(169, 209, 143)</td>\n",
       "      <td>0.108943</td>\n",
       "    </tr>\n",
       "  </tbody>\n",
       "</table>\n",
       "</div>"
      ],
      "text/plain": [
       "             image_name     color1_rgb  color1_propotion color2_rgb  \\\n",
       "0  exampleimages/1.jpeg  (1, 176, 240)          0.447674  (5, 4, 4)   \n",
       "\n",
       "   color2_propotion       color3_rgb  color3_propotion       color4_rgb  \\\n",
       "0          0.327223  (243, 243, 239)           0.11616  (169, 209, 143)   \n",
       "\n",
       "   color4_propotion  \n",
       "0          0.108943  "
      ]
     },
     "execution_count": 34,
     "metadata": {},
     "output_type": "execute_result"
    }
   ],
   "source": [
    "#code for a single image \n",
    "color_data=pd.DataFrame(columns=['image_name',\"color1_rgb\",\"color1_propotion\",\"color2_rgb\",\"color2_propotion\",\"color3_rgb\",\"color3_propotion\",\"color4_rgb\",\"color4_propotion\"])\n",
    "for i in images:\n",
    "    colors = colorgram.extract(i,4)\n",
    "    colors_in_image=pd.Series([i,colors[0].rgb,colors[0].proportion,colors[1].rgb,colors[1].proportion,colors[2].rgb,colors[2].proportion,colors[3].rgb,colors[3].proportion],\\\n",
    "                             index=['image_name', 'color1_rgb', 'color1_propotion', 'color2_rgb',\n",
    "       'color2_propotion', 'color3_rgb', 'color3_propotion', 'color4_rgb','color4_propotion'])\n",
    "    print(colors_in_image)\n",
    "    color_data = color_data.append(colors_in_image, ignore_index=True)\n",
    "\n",
    "color_data"
   ]
  },
  {
   "cell_type": "code",
   "execution_count": 35,
   "id": "0ca62b8c",
   "metadata": {},
   "outputs": [
    {
     "data": {
      "text/plain": [
       "image_name          exampleimages/1.jpeg\n",
       "color1_rgb                 (1, 176, 240)\n",
       "color1_propotion                0.447674\n",
       "color2_rgb                     (5, 4, 4)\n",
       "color2_propotion                0.327223\n",
       "color3_rgb               (243, 243, 239)\n",
       "color3_propotion                 0.11616\n",
       "color4_rgb               (169, 209, 143)\n",
       "color4_propotion                0.108943\n",
       "dtype: object"
      ]
     },
     "execution_count": 35,
     "metadata": {},
     "output_type": "execute_result"
    }
   ],
   "source": [
    "colors_in_image"
   ]
  },
  {
   "cell_type": "markdown",
   "id": "dc55740a",
   "metadata": {},
   "source": [
    "### Extraction of colors from an image url"
   ]
  },
  {
   "cell_type": "code",
   "execution_count": 36,
   "id": "72afe214",
   "metadata": {},
   "outputs": [],
   "source": [
    "from PIL import Image\n",
    "import requests\n",
    "url = \"https://picsum.photos/seed/picsum/200/300\"\n",
    "im = Image.open(requests.get(url, stream=True).raw)\n",
    "color_data=pd.DataFrame(columns=['image_name',\"color1_rgb\",\"color1_propotion\",\"color2_rgb\",\"color2_propotion\",\"color3_rgb\",\"color3_propotion\",\"color4_rgb\",\"color4_propotion\"])\n",
    "colors = colorgram.extract(im,4)\n",
    "colors_in_image=pd.Series([im,colors[0].rgb,colors[0].proportion,colors[1].rgb,colors[1].proportion,colors[2].rgb,colors[2].proportion,colors[3].rgb,colors[3].proportion],\\\n",
    "                             index=['image_name', 'color1_rgb', 'color1_propotion', 'color2_rgb',\n",
    "       'color2_propotion', 'color3_rgb', 'color3_propotion', 'color4_rgb','color4_propotion'])\n",
    "color_data = color_data.append(colors_in_image, ignore_index=True)"
   ]
  },
  {
   "cell_type": "code",
   "execution_count": 37,
   "id": "58dfd737",
   "metadata": {},
   "outputs": [
    {
     "data": {
      "text/html": [
       "<div>\n",
       "<style scoped>\n",
       "    .dataframe tbody tr th:only-of-type {\n",
       "        vertical-align: middle;\n",
       "    }\n",
       "\n",
       "    .dataframe tbody tr th {\n",
       "        vertical-align: top;\n",
       "    }\n",
       "\n",
       "    .dataframe thead th {\n",
       "        text-align: right;\n",
       "    }\n",
       "</style>\n",
       "<table border=\"1\" class=\"dataframe\">\n",
       "  <thead>\n",
       "    <tr style=\"text-align: right;\">\n",
       "      <th></th>\n",
       "      <th>image_name</th>\n",
       "      <th>color1_rgb</th>\n",
       "      <th>color1_propotion</th>\n",
       "      <th>color2_rgb</th>\n",
       "      <th>color2_propotion</th>\n",
       "      <th>color3_rgb</th>\n",
       "      <th>color3_propotion</th>\n",
       "      <th>color4_rgb</th>\n",
       "      <th>color4_propotion</th>\n",
       "    </tr>\n",
       "  </thead>\n",
       "  <tbody>\n",
       "    <tr>\n",
       "      <th>0</th>\n",
       "      <td>&lt;PIL.JpegImagePlugin.JpegImageFile image mode=...</td>\n",
       "      <td>(241, 206, 201)</td>\n",
       "      <td>0.318837</td>\n",
       "      <td>(219, 194, 200)</td>\n",
       "      <td>0.261603</td>\n",
       "      <td>(28, 54, 84)</td>\n",
       "      <td>0.247092</td>\n",
       "      <td>(186, 166, 178)</td>\n",
       "      <td>0.172467</td>\n",
       "    </tr>\n",
       "  </tbody>\n",
       "</table>\n",
       "</div>"
      ],
      "text/plain": [
       "                                          image_name       color1_rgb  \\\n",
       "0  <PIL.JpegImagePlugin.JpegImageFile image mode=...  (241, 206, 201)   \n",
       "\n",
       "   color1_propotion       color2_rgb  color2_propotion    color3_rgb  \\\n",
       "0          0.318837  (219, 194, 200)          0.261603  (28, 54, 84)   \n",
       "\n",
       "   color3_propotion       color4_rgb  color4_propotion  \n",
       "0          0.247092  (186, 166, 178)          0.172467  "
      ]
     },
     "execution_count": 37,
     "metadata": {},
     "output_type": "execute_result"
    }
   ],
   "source": [
    "color_data"
   ]
  },
  {
   "cell_type": "code",
   "execution_count": null,
   "id": "609be383",
   "metadata": {},
   "outputs": [],
   "source": []
  }
 ],
 "metadata": {
  "kernelspec": {
   "display_name": "Python 3",
   "language": "python",
   "name": "python3"
  },
  "language_info": {
   "codemirror_mode": {
    "name": "ipython",
    "version": 3
   },
   "file_extension": ".py",
   "mimetype": "text/x-python",
   "name": "python",
   "nbconvert_exporter": "python",
   "pygments_lexer": "ipython3",
   "version": "3.8.8"
  }
 },
 "nbformat": 4,
 "nbformat_minor": 5
}
